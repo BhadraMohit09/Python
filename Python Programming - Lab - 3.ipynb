{
 "cells": [
  {
   "cell_type": "code",
   "execution_count": null,
   "metadata": {
    "vscode": {
     "languageId": "html"
    }
   },
   "outputs": [],
   "source": [
    "\n",
    "<a href='https://www.darshan.ac.in/'> <img src='https://www.darshan.ac.in/Content/media/DU_Logo.svg' width=\"250\" height=\"300\"/></a>\n",
    "<pre>\n",
    "<center><b><h1>Python Programming - 2101CS405</b></center>\n",
    "<center><b><h1>Lab - 3</b></center>    \n",
    "<pre>"
   ]
  },
  {
   "cell_type": "markdown",
   "metadata": {},
   "source": [
    "# for and while loop"
   ]
  },
  {
   "cell_type": "markdown",
   "metadata": {},
   "source": [
    "Enrollment: 23010101605"
   ]
  },
  {
   "cell_type": "markdown",
   "metadata": {},
   "source": [
    "### 01) WAP to print 1 to 10"
   ]
  },
  {
   "cell_type": "code",
   "execution_count": 7,
   "metadata": {},
   "outputs": [
    {
     "name": "stdout",
     "output_type": "stream",
     "text": [
      "1 2 3 4 5 6 7 8 9 10 "
     ]
    }
   ],
   "source": [
    "for i in range(1, 11):\n",
    "    print(i, end=\" \")"
   ]
  },
  {
   "cell_type": "markdown",
   "metadata": {},
   "source": [
    "### 02) WAP to print 1 to n"
   ]
  },
  {
   "cell_type": "code",
   "execution_count": 6,
   "metadata": {},
   "outputs": [
    {
     "name": "stdout",
     "output_type": "stream",
     "text": [
      "Enter a number:: 5\n",
      "1 2 3 4 5 "
     ]
    }
   ],
   "source": [
    "num = int(input(\"Enter a number:: \"))\n",
    "for i in range(1, num+1):\n",
    "    print(i, end=\" \")"
   ]
  },
  {
   "cell_type": "markdown",
   "metadata": {},
   "source": [
    "### 03) WAP to print odd numbers between 1 to n"
   ]
  },
  {
   "cell_type": "code",
   "execution_count": 13,
   "metadata": {},
   "outputs": [
    {
     "name": "stdout",
     "output_type": "stream",
     "text": [
      "Enter a number:: 20\n",
      "Odd numbers are::\n",
      "1 3 5 7 9 11 13 15 17 19 "
     ]
    }
   ],
   "source": [
    "num = int(input(\"Enter a number:: \"))\n",
    "print(\"Odd numbers are:\")\n",
    "for i in range(1, num+1):\n",
    "    if(i%2 == 1):\n",
    "        print(i, end=\" \")"
   ]
  },
  {
   "cell_type": "markdown",
   "metadata": {},
   "source": [
    "### 04) WAP to print numbers between two given numbers which is divisible by 2 but not divisible by 3"
   ]
  },
  {
   "cell_type": "code",
   "execution_count": 15,
   "metadata": {},
   "outputs": [
    {
     "name": "stdout",
     "output_type": "stream",
     "text": [
      "Enter a number1:: 20\n",
      "Enter a number2:: 60\n",
      "Output is: \n",
      "20 22 26 28 32 34 38 40 44 46 50 52 56 58 "
     ]
    }
   ],
   "source": [
    "num1 = int(input(\"Enter a number1:: \"))\n",
    "num2 = int(input(\"Enter a number2:: \"))\n",
    "\n",
    "print(\"Output is: \")\n",
    "for i in range(num1, num2+1):\n",
    "    if(i%2==0 and i%3 != 0):\n",
    "        print(i, end=\" \")"
   ]
  },
  {
   "cell_type": "markdown",
   "metadata": {},
   "source": [
    "### 05) WAP to print sum of 1 to n numbers"
   ]
  },
  {
   "cell_type": "code",
   "execution_count": 18,
   "metadata": {},
   "outputs": [
    {
     "name": "stdout",
     "output_type": "stream",
     "text": [
      "Enter a number:: 8\n",
      "Sum is: \n",
      "36\n"
     ]
    }
   ],
   "source": [
    "num = int(input(\"Enter a number:: \"))\n",
    "sum = 0\n",
    "print(\"Sum is: \")\n",
    "for i in range(1, num+1):\n",
    "    sum = sum + i\n",
    "print(sum)"
   ]
  },
  {
   "cell_type": "markdown",
   "metadata": {},
   "source": [
    "### 06) WAP to print sum of series 1 + 4 + 9 + 16 + 25 + 36 + ...n"
   ]
  },
  {
   "cell_type": "code",
   "execution_count": 22,
   "metadata": {},
   "outputs": [
    {
     "name": "stdout",
     "output_type": "stream",
     "text": [
      "Enter a number:: 5\n",
      "55\n"
     ]
    }
   ],
   "source": [
    "num = int(input(\"Enter a number:: \"))\n",
    "sum = 0\n",
    "for i in range(1, num+1):\n",
    "    sum = sum + i * i\n",
    "print(sum)"
   ]
  },
  {
   "cell_type": "markdown",
   "metadata": {},
   "source": [
    "### 07) WAP to print sum of series 1 – 2 + 3 – 4 + 5 – 6 + 7 ... n"
   ]
  },
  {
   "cell_type": "code",
   "execution_count": 27,
   "metadata": {},
   "outputs": [
    {
     "name": "stdout",
     "output_type": "stream",
     "text": [
      "Enter a number:: 5\n",
      "3\n"
     ]
    }
   ],
   "source": [
    "num = int(input(\"Enter a number:: \"))\n",
    "sum = 0\n",
    "for i in range(1, num+1):\n",
    "    if(i%2 == 0):\n",
    "        sum = sum - i\n",
    "    else:\n",
    "        sum = sum + i\n",
    "print(sum)"
   ]
  },
  {
   "cell_type": "markdown",
   "metadata": {},
   "source": [
    "### 08) WAP to print multiplication table of given number."
   ]
  },
  {
   "cell_type": "code",
   "execution_count": 30,
   "metadata": {},
   "outputs": [
    {
     "name": "stdout",
     "output_type": "stream",
     "text": [
      "Enter a number:: 5\n",
      "Enter limit:: 10\n",
      "5 * 1 = 5\n",
      "5 * 2 = 10\n",
      "5 * 3 = 15\n",
      "5 * 4 = 20\n",
      "5 * 5 = 25\n",
      "5 * 6 = 30\n",
      "5 * 7 = 35\n",
      "5 * 8 = 40\n",
      "5 * 9 = 45\n",
      "5 * 10 = 50\n"
     ]
    }
   ],
   "source": [
    "num = int(input(\"Enter a number:: \"))\n",
    "limit = int(input(\"Enter limit:: \"))\n",
    "\n",
    "for i in range(1, limit+1):\n",
    "    answer = num * i\n",
    "    print(num,\"*\",i,\"=\",answer)"
   ]
  },
  {
   "cell_type": "markdown",
   "metadata": {},
   "source": [
    "### 09) WAP to find factorial of the given number"
   ]
  },
  {
   "cell_type": "code",
   "execution_count": 40,
   "metadata": {},
   "outputs": [
    {
     "name": "stdout",
     "output_type": "stream",
     "text": [
      "Enter a number:: 6\n",
      "720\n"
     ]
    }
   ],
   "source": [
    "num = int(input(\"Enter a number:: \"))\n",
    "fact = 1\n",
    "for i in range(2, num+1):\n",
    "    fact = fact * i\n",
    "print(fact)"
   ]
  },
  {
   "cell_type": "markdown",
   "metadata": {},
   "source": [
    "### 10) WAP to find factors of the given number"
   ]
  },
  {
   "cell_type": "code",
   "execution_count": 42,
   "metadata": {},
   "outputs": [
    {
     "name": "stdout",
     "output_type": "stream",
     "text": [
      "Enter a number::60\n",
      "123456101215203060"
     ]
    }
   ],
   "source": [
    "num = int(input(\"Enter a number::\"))\n",
    "\n",
    "for i in range(1, num+1):\n",
    "    if(num%i==0):\n",
    "        print(i, end=\" \")"
   ]
  },
  {
   "cell_type": "markdown",
   "metadata": {},
   "source": [
    "### 11) WAP to find whether the given number is prime or not."
   ]
  },
  {
   "cell_type": "code",
   "execution_count": 39,
   "metadata": {},
   "outputs": [
    {
     "name": "stdout",
     "output_type": "stream",
     "text": [
      "Enter a number:: 19979\n",
      "Number is prime...\n"
     ]
    }
   ],
   "source": [
    "num = int(input(\"Enter a number:: \"))\n",
    "for i in range(2, num+1):\n",
    "    if(num%i ==0):\n",
    "        print(\"Number is not prime... \")\n",
    "        break\n",
    "    else:\n",
    "        print(\"Number is prime...\")\n",
    "        break"
   ]
  },
  {
   "cell_type": "markdown",
   "metadata": {},
   "source": [
    "### 12) WAP to print sum of digits of given number"
   ]
  },
  {
   "cell_type": "code",
   "execution_count": 65,
   "metadata": {},
   "outputs": [
    {
     "name": "stdout",
     "output_type": "stream",
     "text": [
      "Enter a number:: 54321\n",
      "15\n"
     ]
    }
   ],
   "source": [
    "num = int(input(\"Enter a number:: \"))\n",
    "sum = 0\n",
    "for i in range(1, num+1):\n",
    "    sum = sum + num % 10\n",
    "    num //= 10\n",
    "print(sum)"
   ]
  },
  {
   "cell_type": "markdown",
   "metadata": {},
   "source": [
    "### 13) WAP to check whether the given number is palindrome or not"
   ]
  },
  {
   "cell_type": "code",
   "execution_count": null,
   "metadata": {},
   "outputs": [],
   "source": [
    "num = int(input(\"Enter a number:: \"))\n",
    "temp = num\n",
    "rev = 0\n",
    "while(num>0):\n",
    "    dig = num % 10\n",
    "    rev = rev * 10 + dig\n",
    "    num //= 10\n",
    "\n",
    "if(temp == rev):\n",
    "    print(temp,\"is palindrome\")\n",
    "else:\n",
    "    print(temp,\"is not palindrome\")"
   ]
  },
  {
   "cell_type": "markdown",
   "metadata": {},
   "source": [
    "### 01) WAP to check whether the given number is Armstrong or not."
   ]
  },
  {
   "cell_type": "code",
   "execution_count": null,
   "metadata": {},
   "outputs": [],
   "source": [
    "num = int(input(\"Enter a number:: \"))\n",
    "original = num\n",
    "digits = 0\n",
    "temp = num\n",
    "\n",
    "while temp > 0:\n",
    "  temp //= 10\n",
    "  digits += 1\n",
    "\n",
    "sum = 0\n",
    "temp = num\n",
    "while temp > 0:\n",
    "  dig = temp % 10\n",
    "  sum += dig ** digits\n",
    "  temp //= 10\n",
    "\n",
    "if(original == sum):\n",
    "  print(\"Number is armstrong...\")\n",
    "else:\n",
    "  print(\"Number is not armstrong...\")"
   ]
  },
  {
   "cell_type": "markdown",
   "metadata": {},
   "source": [
    "### 02) WAP to find out prime numbers between given two numbers."
   ]
  },
  {
   "cell_type": "code",
   "execution_count": 123,
   "metadata": {},
   "outputs": [
    {
     "name": "stdout",
     "output_type": "stream",
     "text": [
      "Enter starting number::10\n",
      "Enter limit:: 10\n",
      "10\n",
      "10\n",
      "10\n",
      "10\n",
      "10\n",
      "10\n",
      "10\n",
      "10\n",
      "10\n",
      "10\n"
     ]
    }
   ],
   "source": [
    "num1 = int(input(\"Enter starting number::\"))\n",
    "num2 = int(input(\"Enter limit:: \"))\n",
    "\n",
    "for i in range(num1, num2+1):\n",
    "    for j in range(1, i+1):\n",
    "        if(i%2 == 0):\n",
    "            print(i, end=\" \")\n",
    "            break\n",
    "        else:\n",
    "            print(i)\n",
    "            break"
   ]
  },
  {
   "cell_type": "markdown",
   "metadata": {},
   "source": [
    "### 03) WAP to calculate x^y without using any function."
   ]
  },
  {
   "cell_type": "code",
   "execution_count": null,
   "metadata": {},
   "outputs": [],
   "source": [
    "base = int(input(\"Enter base:: \"))\n",
    "exp = int(input(\"Enter exponent/power: \"))\n",
    "answer = 1\n",
    "for i in range(1, exp+1):\n",
    "    answer = answer * base\n",
    "print(answer)"
   ]
  },
  {
   "cell_type": "markdown",
   "metadata": {},
   "source": [
    "### 04) WAP to check whether the given number is perfect or not.\n",
    "[Sum of factors including 1 excluding number itself]"
   ]
  },
  {
   "cell_type": "code",
   "execution_count": null,
   "metadata": {},
   "outputs": [],
   "source": [
    "num = int(input(\"Enter a number:: \"))\n",
    "div = 0\n",
    "\n",
    "for i in range(1, num):\n",
    "  if(num % i == 0):\n",
    "    div += i\n",
    "if(div==num):\n",
    "  print(num,\" is perfect number...\")\n",
    "else:\n",
    "  print(num,\" is not a perfect number...\")"
   ]
  },
  {
   "cell_type": "markdown",
   "metadata": {},
   "source": [
    "### 05) WAP to find the sum of 1 + (1+2) + (1+2+3) + (1+2+3+4)+...+(1+2+3+4+....+n)"
   ]
  },
  {
   "cell_type": "code",
   "execution_count": null,
   "metadata": {},
   "outputs": [],
   "source": [
    "num = int(input(\"Enter the value of n: \"))\n",
    "result = 0 \n",
    "\n",
    "for i in range(1, num+1):\n",
    "    sumN = sum(range(1, i+1))\n",
    "    \n",
    "    result += sumN\n",
    "\n",
    "print(f\"The sum of the series is: {result}\")\n"
   ]
  },
  {
   "cell_type": "markdown",
   "metadata": {},
   "source": [
    "### 06) WAP to print Multiplication Table up to n"
   ]
  },
  {
   "cell_type": "code",
   "execution_count": null,
   "metadata": {},
   "outputs": [],
   "source": [
    "num = int(input(\"Enter a number:: \"))\n",
    "limit = int(input(\"Enter limit:: \"))\n",
    "\n",
    "for i in range(1, limit+1):\n",
    "    answer = num * i\n",
    "    print(num,\"*\",i,\"=\",answer)"
   ]
  }
 ],
 "metadata": {
  "kernelspec": {
   "display_name": "Python 3 (ipykernel)",
   "language": "python",
   "name": "python3"
  },
  "language_info": {
   "codemirror_mode": {
    "name": "ipython",
    "version": 3
   },
   "file_extension": ".py",
   "mimetype": "text/x-python",
   "name": "python",
   "nbconvert_exporter": "python",
   "pygments_lexer": "ipython3",
   "version": "3.10.8"
  }
 },
 "nbformat": 4,
 "nbformat_minor": 4
}
