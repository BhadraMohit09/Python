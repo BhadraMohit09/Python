{
 "cells": [
  {
   "cell_type": "markdown",
   "metadata": {},
   "source": [
    "<a href='https://www.darshan.ac.in/'> <img src='https://www.darshan.ac.in/Content/media/DU_Logo.svg' width=\"250\" height=\"300\"/></a>\n",
    "<pre>\n",
    "<center><b><h1>Python Programming - 2101CS405</b></center>\n",
    "<center><b><h1>Lab - 1</b></center>    \n",
    "<pre>"
   ]
  },
  {
   "cell_type": "markdown",
   "metadata": {},
   "source": [
    "### 01) WAP to print “Hello World”"
   ]
  },
  {
   "cell_type": "code",
   "execution_count": 1,
   "metadata": {},
   "outputs": [
    {
     "name": "stdout",
     "output_type": "stream",
     "text": [
      "Hello World\n"
     ]
    }
   ],
   "source": [
    "print(\"Hello World\")"
   ]
  },
  {
   "cell_type": "markdown",
   "metadata": {},
   "source": [
    "### 02) WAP to print your address i) using single print ii) using multiple print"
   ]
  },
  {
   "cell_type": "code",
   "execution_count": 1,
   "metadata": {},
   "outputs": [
    {
     "name": "stdout",
     "output_type": "stream",
     "text": [
      "Madhav Bagh-5,\n",
      "Near Kansumra,\n",
      "Khambhaliya Bypass Highway,\n",
      "Jamnagar\n",
      "Madhav Bagh-5\n",
      "Near Kansumra,\n",
      "Khambhaliya Bypass Highway,\n",
      "Jamnagar\n"
     ]
    }
   ],
   "source": [
    "print(\"Madhav Bagh-5,\\nNear Kansumra,\\nKhambhaliya Bypass Highway,\\nJamnagar\")\n",
    "\n",
    "print(\"Madhav Bagh-5\")\n",
    "print(\"Near Kansumra,\")\n",
    "print(\"Khambhaliya Bypass Highway,\")\n",
    "print(\"Jamnagar\")\n"
   ]
  },
  {
   "cell_type": "markdown",
   "metadata": {},
   "source": [
    "### 03) WAP to print addition of 2 numbers (without input function)"
   ]
  },
  {
   "cell_type": "code",
   "execution_count": 3,
   "metadata": {},
   "outputs": [
    {
     "name": "stdout",
     "output_type": "stream",
     "text": [
      "Addition is:  60\n"
     ]
    }
   ],
   "source": [
    "num1 = 20\n",
    "num2 = 40\n",
    "answer = num1 + num2\n",
    "print(\"Addition is: \", answer)"
   ]
  },
  {
   "cell_type": "markdown",
   "metadata": {},
   "source": [
    "### 04) WAP to calculate and print average of 2 numbers (without input function)"
   ]
  },
  {
   "cell_type": "code",
   "execution_count": 4,
   "metadata": {},
   "outputs": [
    {
     "name": "stdout",
     "output_type": "stream",
     "text": [
      "Average is:  25.0\n"
     ]
    }
   ],
   "source": [
    "num1 = 30\n",
    "num2 = 20\n",
    "average = (num1+num2)/2\n",
    "print(\"Average is: \", average)"
   ]
  },
  {
   "cell_type": "markdown",
   "metadata": {},
   "source": [
    "### 05) WAP to add two number entered by user."
   ]
  },
  {
   "cell_type": "code",
   "execution_count": null,
   "metadata": {},
   "outputs": [],
   "source": [
    "num1 = float(input(\"Enter the first number: \"))\n",
    "num2 = float(input(\"Enter the second number: \"))\n",
    "\n",
    "result = num1 + num2\n",
    "\n",
    "print(\"The sum is:\", result)"
   ]
  },
  {
   "cell_type": "markdown",
   "metadata": {},
   "source": [
    "### 06) WAP to calculate simple interest."
   ]
  },
  {
   "cell_type": "code",
   "execution_count": 1,
   "metadata": {},
   "outputs": [],
   "source": [
    "P = float(input(\"Enter amount: \"))\n",
    "R = float(input(\"Enter Percentage Rate: \"))\n",
    "T = float(input(\"Enter Time: \"))\n",
    "Interest = (P*R*T)/100\n",
    "print(\"Simple Interest is: \", Interest)"
   ]
  },
  {
   "cell_type": "markdown",
   "metadata": {},
   "source": [
    "### 07) WAP Calculate Area and Circumfrence of Circle"
   ]
  },
  {
   "cell_type": "code",
   "execution_count": null,
   "metadata": {},
   "outputs": [],
   "source": [
    "radius = float(input(\"Enter radius: \"))\n",
    "Area = 3.14 * radius * radius\n",
    "Circumference = 2 * 3.14 * radius \n",
    "print(\"Area of circle is: \", Area)\n",
    "print(\"Circumference of circle is: \", Circumference)"
   ]
  },
  {
   "cell_type": "markdown",
   "metadata": {},
   "source": [
    "### 08) WAP to print Multiplication table of given number without using loops."
   ]
  },
  {
   "cell_type": "code",
   "execution_count": 1,
   "metadata": {},
   "outputs": [],
   "source": [
    "number = int(input(\"Enter the number for the multiplication table: \"))\n",
    "range = int(input(\"Enter the limit for the multiplication table: \"))\n",
    "\n",
    "def print_table(i):\n",
    "    if i <= range:\n",
    "        result = number * i\n",
    "        print(f\"{number} x {i} = {result}\")\n",
    "        print_table(i + 1)\n",
    "\n",
    "print_table(1)"
   ]
  },
  {
   "cell_type": "markdown",
   "metadata": {},
   "source": [
    "### 09) WAP to calculate Area of Triangle (hint: a = h * b * 0.5)"
   ]
  },
  {
   "cell_type": "code",
   "execution_count": null,
   "metadata": {},
   "outputs": [],
   "source": [
    "base = float(input(\"Enter base: \"))\n",
    "height = float(input(\"Enter height: \"))\n",
    "area = base * height * 0.5\n",
    "print(\"Area of triangle is: \", area)"
   ]
  },
  {
   "cell_type": "markdown",
   "metadata": {},
   "source": [
    "### 10) WAP to convert degree to Fahrenheit and vice versa."
   ]
  },
  {
   "cell_type": "code",
   "execution_count": null,
   "metadata": {},
   "outputs": [],
   "source": [
    "fahrenheit = float(input(\"Enter Fahrenheits: \"))\n",
    "celsius = (fahrenheit-32)*5/9\n",
    "print(\"Celsius is: \", celsius)\n",
    "\n",
    "celsius = float(input(\"Enter celsius\"))\n",
    "fahrenheit = (celsius * 9/5)+32\n",
    "print(\"Fahrenheit is: \", fahrenheit)"
   ]
  },
  {
   "cell_type": "markdown",
   "metadata": {},
   "source": [
    "### 11) WAP to calculate total marks and Percentage."
   ]
  },
  {
   "cell_type": "code",
   "execution_count": null,
   "metadata": {},
   "outputs": [],
   "source": [
    "total_marks = float(input(\"Enter marks: \"))\n",
    "marks = float(input(\"Enter marks \"))\n",
    "percentage = (marks/total_marks)*100\n",
    "print(\"Percentage is: \", percentage)"
   ]
  },
  {
   "cell_type": "markdown",
   "metadata": {},
   "source": [
    "### 12) Compute distance between two points taking input from the user (Pythagorean Theorem)."
   ]
  },
  {
   "cell_type": "code",
   "execution_count": null,
   "metadata": {},
   "outputs": [],
   "source": [
    "p1 = float(input(\"Enter point A: \"))\n",
    "p2 = float(input(\"Enter point B: \"))\n",
    "hypotenuse = (p1*2 + p2*2)*0.5\n",
    "\n",
    "print(\"The length is: \", hypotenuse)"
   ]
  },
  {
   "cell_type": "markdown",
   "metadata": {},
   "source": [
    "### 13) WAP to convert seconds into hours, minutes & seconds and print in HH:MM:SS\n",
    "[e.g. 10000 seconds mean 2:46:40 (2 Hours, 46 Minutes, 40Seconds)]"
   ]
  },
  {
   "cell_type": "code",
   "execution_count": null,
   "metadata": {},
   "outputs": [],
   "source": [
    "total_seconds = int(input(\"Enter number of seconds: \"))\n",
    "hours = total_seconds // 3600\n",
    "remain_seconds = total_seconds % 3600\n",
    "minutes = remain_seconds // 60\n",
    "seconds = remain_seconds % 60 \n",
    "print(f\"Time is: {hours:02d}:{minutes:02d}:{seconds:02d}\")"
   ]
  },
  {
   "cell_type": "markdown",
   "metadata": {},
   "source": [
    "### 14) WAP to enter distance into kilometer and convert it into meter, feet,inches, and centimeter"
   ]
  },
  {
   "cell_type": "code",
   "execution_count": null,
   "metadata": {},
   "outputs": [],
   "source": [
    "distance = float(input(\"Enter distance in KM: \"))\n",
    "\n",
    "meters = distance * 1000\n",
    "feet = distance * 3280.84\n",
    "inches = distance * 39370.1\n",
    "centimeters = distance * 100000\n",
    "\n",
    "print(f\"{meters}\")\n",
    "print(f\"{feet}\")\n",
    "print(f\"{inches}\")\n",
    "print(f\"{centimeters}\")\n"
   ]
  }
 ],
 "metadata": {
  "kernelspec": {
   "display_name": "Python 3 (ipykernel)",
   "language": "python",
   "name": "python3"
  },
  "language_info": {
   "codemirror_mode": {
    "name": "ipython",
    "version": 3
   },
   "file_extension": ".py",
   "mimetype": "text/x-python",
   "name": "python",
   "nbconvert_exporter": "python",
   "pygments_lexer": "ipython3",
   "version": "3.10.8"
  },
  "vscode": {
   "interpreter": {
    "hash": "31f2aee4e71d21fbe5cf8b01ff0e069b9275f58929596ceb00d14d90e3e16cd6"
   }
  }
 },
 "nbformat": 4,
 "nbformat_minor": 4
}
