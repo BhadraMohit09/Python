{
  "cells": [
    {
      "cell_type": "markdown",
      "metadata": {
        "id": "im4FI7W4bhOe"
      },
      "source": [
        "\n",
        "<a href='https://www.darshan.ac.in/'> <img src='https://www.darshan.ac.in/Content/media/DU_Logo.svg' width=\"250\" height=\"300\"/></a>\n",
        "<pre>\n",
        "<center><b><h1>Python Programming - 2101CS405</b></center>\n",
        "<center><b><h1>Lab - 4</b></center>    \n",
        "<pre>"
      ]
    },
    {
      "cell_type": "markdown",
      "metadata": {
        "id": "-Msek2nybhOn"
      },
      "source": [
        "# String"
      ]
    },
    {
      "cell_type": "markdown",
      "metadata": {},
      "source": [
        "Enrollment: 23010101605"
      ]
    },
    {
      "cell_type": "markdown",
      "metadata": {
        "id": "X56YL3X5bhOp"
      },
      "source": [
        "### 01) WAP to check given string is palindrome or not."
      ]
    },
    {
      "cell_type": "code",
      "execution_count": null,
      "metadata": {
        "colab": {
          "base_uri": "https://localhost:8080/"
        },
        "id": "vWk1rH5CbhOq",
        "outputId": "bd5aad77-4b61-4d44-8976-756280492c3c"
      },
      "outputs": [
        {
          "name": "stdout",
          "output_type": "stream",
          "text": [
            "Enter a String:: ABBABB\n",
            "String is not Palindrome...\n"
          ]
        }
      ],
      "source": [
        "str = input(\"Enter a String:: \")\n",
        "\n",
        "if(str == str[::-1]):\n",
        "  print(\"String is Palindrome...\")\n",
        "else:\n",
        "  print(\"String is not Palindrome...\")"
      ]
    },
    {
      "cell_type": "markdown",
      "metadata": {
        "id": "WHcx_PI6bhOr"
      },
      "source": [
        "### 02) WAP to reverse the words in given string."
      ]
    },
    {
      "cell_type": "code",
      "execution_count": null,
      "metadata": {
        "colab": {
          "base_uri": "https://localhost:8080/"
        },
        "id": "U-RKo6QgbhOs",
        "outputId": "ea5186bb-4a17-487a-bdb2-38ddbcde363a"
      },
      "outputs": [
        {
          "name": "stdout",
          "output_type": "stream",
          "text": [
            "Enter a string::ABC ABC ABC\n",
            "Reverse is::  CBA CBA CBA\n"
          ]
        }
      ],
      "source": [
        "str = input(\"Enter a string::\")\n",
        "\n",
        "print(\"Reverse is:: \", str[::-1])"
      ]
    },
    {
      "cell_type": "markdown",
      "metadata": {
        "id": "Jz6FGh_bbhOs"
      },
      "source": [
        "### 03) WAP to remove ith character from given string"
      ]
    },
    {
      "cell_type": "code",
      "execution_count": null,
      "metadata": {
        "colab": {
          "base_uri": "https://localhost:8080/"
        },
        "id": "DFk9ojLCbhOu",
        "outputId": "24ec9b8e-3cb1-4299-da29-85279064cbc1"
      },
      "outputs": [
        {
          "name": "stdout",
          "output_type": "stream",
          "text": [
            "Enter a String:: qwerty\n",
            "Enter index:: 1\n",
            "Invalid inputs..\n",
            "qerty\n"
          ]
        }
      ],
      "source": [
        "str = input(\"Enter a String:: \")\n",
        "index = int(input(\"Enter index:: \"))\n",
        "result = ''\n",
        "\n",
        "if(index < 0 or index>= len(str)):\n",
        "  print(\"Invalid inputs..\")\n",
        "result = str[:index] + str[index+1:]\n",
        "print(\"Final string after removing element: \",result)"
      ]
    },
    {
      "cell_type": "markdown",
      "metadata": {
        "id": "SOZr7aUebhOu"
      },
      "source": [
        "### 04) WAP to find length of String without using len function."
      ]
    },
    {
      "cell_type": "code",
      "execution_count": null,
      "metadata": {
        "colab": {
          "base_uri": "https://localhost:8080/"
        },
        "id": "-8veiZBNbhOv",
        "outputId": "32d2e901-eb70-4773-a6cb-0a2433100a4f"
      },
      "outputs": [
        {
          "name": "stdout",
          "output_type": "stream",
          "text": [
            "Enter a String:: qwerty\n",
            "Length of qwerty =====> 6\n"
          ]
        }
      ],
      "source": [
        "str = input(\"Enter a String:: \")\n",
        "length = 0\n",
        "for i in str:\n",
        "  length += 1\n",
        "print(\"Length of\",str,\"=====>\",length)"
      ]
    },
    {
      "cell_type": "markdown",
      "metadata": {
        "id": "Lzlj66FMbhOw"
      },
      "source": [
        "### 05) WAP to print even length word in string."
      ]
    },
    {
      "cell_type": "code",
      "execution_count": null,
      "metadata": {
        "colab": {
          "base_uri": "https://localhost:8080/"
        },
        "id": "ipDsyvbabhOy",
        "outputId": "78e663c6-422d-4c21-fdfd-2d2a83b99391"
      },
      "outputs": [
        {
          "name": "stdout",
          "output_type": "stream",
          "text": [
            "Enter a string:: qw wer qwe qwww\n",
            "Words with even length:\n",
            "qw\n",
            "qwww\n"
          ]
        }
      ],
      "source": [
        "str = input(\"Enter a string:: \")\n",
        "\n",
        "result = str.split()\n",
        "\n",
        "print(\"Words with even length:\")\n",
        "for i in result:\n",
        "    if len(i) % 2 == 0:\n",
        "        print(i)\n"
      ]
    },
    {
      "cell_type": "markdown",
      "metadata": {
        "id": "6W8R5fCebhOy"
      },
      "source": [
        "### 06) WAP to count numbers of vowels in given string."
      ]
    },
    {
      "cell_type": "code",
      "execution_count": null,
      "metadata": {
        "colab": {
          "base_uri": "https://localhost:8080/"
        },
        "id": "aMFy_tnbbhOz",
        "outputId": "3c10c3d5-dcf9-472a-efe5-7154c08f1245"
      },
      "outputs": [
        {
          "name": "stdout",
          "output_type": "stream",
          "text": [
            "Enter aString:: powerstorms deserts\n",
            "Number of vowels in powerstorms deserts ==> 5\n"
          ]
        }
      ],
      "source": [
        "str = input(\"Enter aString:: \")\n",
        "count = 0\n",
        "result = 'aeiouAEIOU'\n",
        "\n",
        "for i in str:\n",
        "  if i in result:\n",
        "    count += 1\n",
        "print(\"Number of vowels in\",str,\"==>\",count)"
      ]
    },
    {
      "cell_type": "markdown",
      "metadata": {
        "id": "lXsaxIh0bhOz"
      },
      "source": [
        "### 07) WAP to convert given array to string.\n"
      ]
    },
    {
      "cell_type": "code",
      "execution_count": null,
      "metadata": {
        "colab": {
          "base_uri": "https://localhost:8080/"
        },
        "id": "ItHlXPtsbhOz",
        "outputId": "be7cf361-f085-41a3-8715-d0184c7be1c9"
      },
      "outputs": [
        {
          "name": "stdout",
          "output_type": "stream",
          "text": [
            "1,2,3,4,5,6,\n"
          ]
        }
      ],
      "source": [
        "arr = ['1','2','3','4','5','6']\n",
        "result = \"\"\n",
        "\n",
        "for i in arr:\n",
        "  result += i + \",\"\n",
        "print(result)"
      ]
    },
    {
      "cell_type": "markdown",
      "metadata": {
        "id": "ERUE5nZobhO0"
      },
      "source": [
        "### 01) WAP to find out duplicate characters in given string."
      ]
    },
    {
      "cell_type": "code",
      "execution_count": 19,
      "metadata": {
        "colab": {
          "base_uri": "https://localhost:8080/"
        },
        "id": "e64kYJQbbhO0",
        "outputId": "6149e195-caa2-437d-e449-4433ba1c855d"
      },
      "outputs": [
        {
          "name": "stdout",
          "output_type": "stream",
          "text": [
            "Enter a string:: mabb\n",
            "Duplicate characters  ==> {'b'}\n",
            "All characters ==> {'a', 'b', 'm'}\n"
          ]
        }
      ],
      "source": [
        "str = input(\"Enter a string:: \")\n",
        "\n",
        "char1 = set()\n",
        "char2 = set()\n",
        "\n",
        "for i in str:\n",
        "  if i in char1:\n",
        "    char2.add(i)\n",
        "  else:\n",
        "    char1.add(i)\n",
        "print(\"Duplicate characters  ==>\",char2)\n",
        "print(\"All characters ==>\",char1)"
      ]
    },
    {
      "cell_type": "markdown",
      "metadata": {
        "id": "wwXk808TbhO1"
      },
      "source": [
        "### 02) WAP to capitalize the first and last character of each word in a string."
      ]
    },
    {
      "cell_type": "code",
      "execution_count": null,
      "metadata": {
        "colab": {
          "base_uri": "https://localhost:8080/"
        },
        "id": "CdEA94TlbhO2",
        "outputId": "b9eea245-7ad0-4d03-cc61-c5bf6ffc7597"
      },
      "outputs": [
        {
          "name": "stdout",
          "output_type": "stream",
          "text": [
            "Enter a string:: user input data\n",
            "user input data ===> UseR InpuT DatA \n"
          ]
        }
      ],
      "source": [
        "str = input(\"Enter a string:: \")\n",
        "data = str.split()\n",
        "result = ''\n",
        "for i in data:\n",
        "  if(len(data)>1):\n",
        "    i = i[0].upper() + i[1:-1] + i[-1].upper()\n",
        "  else:\n",
        "    i = i.upper()\n",
        "  result += i + \" \"\n",
        "print(str,\"===>\",result)"
      ]
    },
    {
      "cell_type": "markdown",
      "metadata": {
        "id": "rjc_hWH8bhO2"
      },
      "source": [
        "### 03) WAP to find Maximum frequency character in String."
      ]
    },
    {
      "cell_type": "code",
      "execution_count": null,
      "metadata": {
        "colab": {
          "base_uri": "https://localhost:8080/"
        },
        "id": "NAiJalyNbhO3",
        "outputId": "f493eabd-dfcd-45cc-e7e3-b229f8d26e3a"
      },
      "outputs": [
        {
          "name": "stdout",
          "output_type": "stream",
          "text": [
            "Enter a string:: dwfv yf    y f8yhfyeyf f fh h \n",
            "f\n"
          ]
        }
      ],
      "source": [
        "str = input(\"Enter a string:: \")\n",
        "frequency = {}\n",
        "\n",
        "for i in str:\n",
        "  if(i.isalpha()):\n",
        "    frequency[i] = frequency.get(i,0) + 1\n",
        "maximum = max(frequency, key=frequency.get)\n",
        "print(\"Maximum Frequency Character ==> \", maximum)"
      ]
    },
    {
      "cell_type": "markdown",
      "metadata": {
        "id": "BzWroJHfbhO4"
      },
      "source": [
        "### 04) WAP to find Minimum frequency character in String."
      ]
    },
    {
      "cell_type": "code",
      "execution_count": null,
      "metadata": {
        "colab": {
          "base_uri": "https://localhost:8080/"
        },
        "id": "tBqlO2XbbhO4",
        "outputId": "293dadef-900e-4799-f68d-497e86b81da6"
      },
      "outputs": [
        {
          "name": "stdout",
          "output_type": "stream",
          "text": [
            "Enter a string:: ad  dw f whwhw ww\n",
            "a\n"
          ]
        }
      ],
      "source": [
        "str = input(\"Enter a string:: \")\n",
        "frequency = {}\n",
        "\n",
        "for i in str:\n",
        "  if(i.isalpha()):\n",
        "    frequency[i] = frequency.get(i,0) + 1\n",
        "minimum = min(frequency, key=frequency.get)\n",
        "print(\"Minimum Frequency Character ==> \",minimum)"
      ]
    },
    {
      "cell_type": "markdown",
      "metadata": {
        "id": "UVkrCfUsbhO4"
      },
      "source": [
        "### 05) WAP to check if a given string is binary string or not"
      ]
    },
    {
      "cell_type": "code",
      "execution_count": 15,
      "metadata": {
        "colab": {
          "base_uri": "https://localhost:8080/"
        },
        "id": "dxC4_6vibhO5",
        "outputId": "acbbf38d-cb1e-47bd-f370-ba4ecb48a509"
      },
      "outputs": [
        {
          "name": "stdout",
          "output_type": "stream",
          "text": [
            "Enter a string:: 10\n",
            "10 is binary\n"
          ]
        }
      ],
      "source": [
        "str = input(\"Enter a string:: \")\n",
        "i=0\n",
        "if(all(i in {'0','1'} for i in str)):\n",
        "  print(str,\"is binary\")\n",
        "else:\n",
        "  print(str,\"is not binary\")"
      ]
    }
  ],
  "metadata": {
    "colab": {
      "provenance": []
    },
    "kernelspec": {
      "display_name": "Python 3 (ipykernel)",
      "language": "python",
      "name": "python3"
    },
    "language_info": {
      "codemirror_mode": {
        "name": "ipython",
        "version": 3
      },
      "file_extension": ".py",
      "mimetype": "text/x-python",
      "name": "python",
      "nbconvert_exporter": "python",
      "pygments_lexer": "ipython3",
      "version": "3.9.13"
    },
    "vscode": {
      "interpreter": {
        "hash": "31f2aee4e71d21fbe5cf8b01ff0e069b9275f58929596ceb00d14d90e3e16cd6"
      }
    }
  },
  "nbformat": 4,
  "nbformat_minor": 0
}
