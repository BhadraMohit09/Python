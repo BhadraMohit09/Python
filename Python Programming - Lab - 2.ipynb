{
 "cells": [
  {
   "cell_type": "markdown",
   "metadata": {},
   "source": [
    "\n",
    "<a href='https://www.darshan.ac.in/'> <img src='https://www.darshan.ac.in/Content/media/DU_Logo.svg' width=\"250\" height=\"300\"/></a>\n",
    "<pre>\n",
    "<center><b><h1>Python Programming - 2101CS405</b></center>\n",
    "<center><b><h1>Lab - 2</b></center>    \n",
    "<pre>"
   ]
  },
  {
   "cell_type": "markdown",
   "metadata": {},
   "source": [
    "# if..else.."
   ]
  },
  {
   "cell_type": "markdown",
   "metadata": {},
   "source": [
    "### 01) WAP to check whether the given number is positive or negative."
   ]
  },
  {
   "cell_type": "code",
   "execution_count": null,
   "metadata": {},
   "outputs": [],
   "source": [
    "number = float(input(\"Enter a number: \"))\n",
    "\n",
    "if number > 0:\n",
    "    print(\"The given number is positive.\")\n",
    "elif number < 0:\n",
    "    print(\"The given number is negative.\")\n",
    "else:\n",
    "    print(\"The given number is zero.\")\n"
   ]
  },
  {
   "cell_type": "markdown",
   "metadata": {},
   "source": [
    "### 02) WAP to check whether the given number is odd or even"
   ]
  },
  {
   "cell_type": "code",
   "execution_count": null,
   "metadata": {},
   "outputs": [],
   "source": [
    "number = int(input(\"Enter a number: \"))\n",
    "\n",
    "if number % 2 == 0:\n",
    "    print(\"The given number is even.\")\n",
    "else:\n",
    "    print(\"The given number is odd.\")"
   ]
  },
  {
   "cell_type": "markdown",
   "metadata": {},
   "source": [
    "### 03) WAP to find out largest number from given two numbers using simple if and ternary operator."
   ]
  },
  {
   "cell_type": "code",
   "execution_count": null,
   "metadata": {},
   "outputs": [],
   "source": [
    "num1 = float(input(\"Enter the first number: \"))\n",
    "num2 = float(input(\"Enter the second number: \"))\n",
    "\n",
    "if num1 > num2:\n",
    "    largest = num1\n",
    "else:\n",
    "    largest = num2\n",
    "    print(\"Largest is:\", largest)\n",
    "\n",
    "largestT = num1 if num1 > num2 else num2\n",
    "print(\"Largest is: \", largestT)"
   ]
  },
  {
   "cell_type": "markdown",
   "metadata": {},
   "source": [
    "### 04) WAP to find out largest number from given three numbers."
   ]
  },
  {
   "cell_type": "code",
   "execution_count": null,
   "metadata": {},
   "outputs": [],
   "source": [
    "num1 = float(input(\"Enter the first number: \"))\n",
    "num2 = float(input(\"Enter the second number: \"))\n",
    "num3 = float(input(\"Enter the third number: \"))\n",
    "\n",
    "if num1 >= num2 and num1 >= num3:\n",
    "    largest = num1\n",
    "elif num2 >= num1 and num2 >= num3:\n",
    "    largest = num2\n",
    "else:\n",
    "    largest = num3\n",
    "\n",
    "print(f\"The largest number is: {largest}\")"
   ]
  },
  {
   "cell_type": "markdown",
   "metadata": {},
   "source": [
    "### 05) WAP to check whether the given year is leap year or not.\n",
    "[If a year can be divisible by 4 but not divisible by 100 then it is leap year but if it is divisible by 400 then it is leap year]"
   ]
  },
  {
   "cell_type": "code",
   "execution_count": null,
   "metadata": {},
   "outputs": [],
   "source": [
    "year = int(input(\"Enter a year: \"))\n",
    "\n",
    "if (year % 4 == 0 and year % 100 != 0) or (year % 400 == 0):\n",
    "    print(f\"{year} is a leap year.\")\n",
    "else:\n",
    "    print(f\"{year} is not a leap year.\")"
   ]
  },
  {
   "cell_type": "markdown",
   "metadata": {},
   "source": [
    "### 06) WAP in python to display the name of the day according to the number given by the user"
   ]
  },
  {
   "cell_type": "code",
   "execution_count": null,
   "metadata": {},
   "outputs": [],
   "source": [
    "day_number = int(input(\"Enter a number (1-7) representing the day of the week: \"))\n",
    "\n",
    "if day_number == 1:\n",
    "    day_name = \"Monday\"\n",
    "elif day_number == 2:\n",
    "    day_name = \"Tuesday\"\n",
    "elif day_number == 3:\n",
    "    day_name = \"Wednesday\"\n",
    "elif day_number == 4:\n",
    "    day_name = \"Thursday\"\n",
    "elif day_number == 5:\n",
    "    day_name = \"Friday\"\n",
    "elif day_number == 6:\n",
    "    day_name = \"Saturday\"\n",
    "elif day_number == 7:\n",
    "    day_name = \"Sunday\"\n",
    "else:\n",
    "    day_name = \"Invalid input. Please enter a number between 1 and 7.\"\n",
    "\n",
    "print(f\"The day corresponding to {day_number} is: {day_name}\")\n"
   ]
  },
  {
   "cell_type": "markdown",
   "metadata": {},
   "source": [
    "### 07) WAP to implement simple calculator which performs (add,sub,mul,div) of two no. based on user input."
   ]
  },
  {
   "cell_type": "code",
   "execution_count": null,
   "metadata": {},
   "outputs": [],
   "source": [
    "num1 = float(input(\"Enter the first number: \"))\n",
    "num2 = float(input(\"Enter the second number: \"))\n",
    "\n",
    "print(\"Select operation:\")\n",
    "print(\"1. Addition\")\n",
    "print(\"2. Subtraction\")\n",
    "print(\"3. Multiplication\")\n",
    "print(\"4. Division\")\n",
    "\n",
    "choice = int(input(\"Enter choice (1-4): \"))\n",
    "\n",
    "if choice == 1:\n",
    "    result = num1 + num2\n",
    "    operation = \"Addition\"\n",
    "    print(result)\n",
    "elif choice == 2:\n",
    "    result = num1 - num2\n",
    "    operation = \"Subtraction\"\n",
    "    print(result)\n",
    "elif choice == 3:\n",
    "    result = num1 * num2\n",
    "    operation = \"Multiplication\"\n",
    "    print(result)\n",
    "elif choice == 4:\n",
    "    if num2 != 0:  \n",
    "        result = num1 / num2\n",
    "        operation = \"Division\"\n",
    "        print(result)\n",
    "    else:\n",
    "        print(\"Error: Division by zero is not allowed.\")\n",
    "else:\n",
    "    print(\"Invalid choice. Please enter a number between 1 and 4.\")"
   ]
  },
  {
   "cell_type": "markdown",
   "metadata": {},
   "source": [
    "### 08) WAP to calculate electricity bill based on following criteria. Which takes the unit from the user.\n",
    "a. First 1 to 50 units – Rs. 2.60/unit</br>\n",
    "b. Next 50 to 100 units – Rs. 3.25/unit</br>\n",
    "c. Next 100 to 200 units – Rs. 5.26/unit</br>\n",
    "d. above 200 units – Rs. 8.45/unit"
   ]
  },
  {
   "cell_type": "code",
   "execution_count": null,
   "metadata": {},
   "outputs": [],
   "source": [
    "units = float(input(\"Enter the number of units consumed: \"))\n",
    "\n",
    "if units <= 50:\n",
    "    rate = 2.60\n",
    "elif units <= 100:\n",
    "    rate = 3.25\n",
    "elif units <= 200:\n",
    "    rate = 5.26\n",
    "else:\n",
    "    rate = 8.45\n",
    "\n",
    "electricity_bill = units * rate\n",
    "print(f\"Your bill is: Rs.{electricity_bill: .2f}\")"
   ]
  },
  {
   "cell_type": "markdown",
   "metadata": {},
   "source": [
    "### 01) WAP to read marks of five subjects. Calculate percentage and print class accordingly. \n",
    "Fail below 35 </br>\n",
    "Pass Class between 35 to 45 </br>\n",
    "Second Class</br>\n",
    "between 45 to 60</br>\n",
    "First Class between 60 to 70</br> \n",
    "Distinction if more than 70"
   ]
  },
  {
   "cell_type": "code",
   "execution_count": null,
   "metadata": {},
   "outputs": [],
   "source": [
    "subject1 = float(input(\"Enter marks for subject 1: \"))\n",
    "subject2 = float(input(\"Enter marks for subject 2: \"))\n",
    "subject3 = float(input(\"Enter marks for subject 3: \"))\n",
    "subject4 = float(input(\"Enter marks for subject 4: \"))\n",
    "subject5 = float(input(\"Enter marks for subject 5: \"))\n",
    "\n",
    "total_marks = subject1 + subject2 + subject3 + subject4 + subject5\n",
    "percentage = (total_marks / 500) * 100\n",
    "\n",
    "if percentage < 35:\n",
    "    result = \"Fail\"\n",
    "elif 35 <= percentage < 45:\n",
    "    result = \"Pass Class\"\n",
    "elif 45 <= percentage < 60:\n",
    "    result = \"Second Class\"\n",
    "elif 60 <= percentage < 70:\n",
    "    result = \"First Class\"\n",
    "else:\n",
    "    result = \"Distinction\"\n",
    "\n",
    "print(f\"Percentage: {percentage:.2f}%\")\n",
    "print(f\"Class: {result}\")"
   ]
  },
  {
   "cell_type": "markdown",
   "metadata": {},
   "source": [
    "### 02) WAP to find out the Maximum and Minimum number from given 4 numbers."
   ]
  },
  {
   "cell_type": "code",
   "execution_count": null,
   "metadata": {},
   "outputs": [],
   "source": [
    "num1 = float(input(\"Enter the first number: \"))\n",
    "num2 = float(input(\"Enter the second number: \"))\n",
    "num3 = float(input(\"Enter the third number: \"))\n",
    "num4 = float(input(\"Enter the fourth number: \"))\n",
    "\n",
    "if num1 >= num2 and num1 >= num3 and num1 >= num4:\n",
    "    maximum = num1\n",
    "elif num2 >= num1 and num2 >= num3 and num2 >= num4:\n",
    "    maximum = num2\n",
    "elif num3 >= num1 and num3 >= num2 and num3 >= num4:\n",
    "    maximum = num3\n",
    "else:\n",
    "    maximum = num4\n",
    "\n",
    "if num1 <= num2 and num1 <= num3 and num1 <= num4:\n",
    "    minimum = num1\n",
    "elif num2 <= num1 and num2 <= num3 and num2 <= num4:\n",
    "    minimum = num2\n",
    "elif num3 <= num1 and num3 <= num2 and num3 <= num4:\n",
    "    minimum = num3\n",
    "else:\n",
    "    minimum = num4\n",
    "print(f\"Maximum is: {maximum}\")\n",
    "print(f\"Minimum is: {minimum}\")"
   ]
  },
  {
   "cell_type": "markdown",
   "metadata": {},
   "source": [
    "### 03) WAP to input an integer number and check the last digit of number is even or odd."
   ]
  },
  {
   "cell_type": "code",
   "execution_count": null,
   "metadata": {},
   "outputs": [],
   "source": [
    "number = int(input(\"Enter an integer number: \"))\n",
    "\n",
    "if number % 10 != 0:\n",
    "    if number % 2 == 0:\n",
    "        print(f\"The digit is even.\")\n",
    "    else:\n",
    "        print(f\"The digit is odd.\")\n",
    "else:\n",
    "    print(\"Invalid input\")"
   ]
  },
  {
   "cell_type": "markdown",
   "metadata": {},
   "source": [
    "### 04) WAP to determine the roots of the equation ax2+bx+c=0."
   ]
  },
  {
   "cell_type": "code",
   "execution_count": null,
   "metadata": {},
   "outputs": [],
   "source": [
    "import math\n",
    "a = float(input(\"Enter the coefficient a: \"))\n",
    "b = float(input(\"Enter the coefficient b: \"))\n",
    "c = float(input(\"Enter the coefficient c: \"))\n",
    "\n",
    "discriminant = b**2 - 4*a*c\n",
    "\n",
    "if discriminant > 0:\n",
    "    root1 = (-b + math.sqrt(discriminant)) / (2*a)\n",
    "    root2 = (-b - math.sqrt(discriminant)) / (2*a)\n",
    "    print(\"Roots are real and distinct\", root1, root2)\n",
    "elif discriminant == 0:\n",
    "    root = -b / (2*a)\n",
    "    print(f\"The roots are real and identical: {root}\")\n",
    "else:\n",
    "    real = -b / (2*a)\n",
    "    imaginary = math.sqrt(abs(discriminant)) / (2*a)\n",
    "    root1 = complex(real, imaginary)\n",
    "    root2 = complex(real, -imaginary)\n",
    "    print(f\"The roots are complex: {root1}, {root2}\")"
   ]
  }
 ],
 "metadata": {
  "kernelspec": {
   "display_name": "Python 3 (ipykernel)",
   "language": "python",
   "name": "python3"
  },
  "language_info": {
   "codemirror_mode": {
    "name": "ipython",
    "version": 3
   },
   "file_extension": ".py",
   "mimetype": "text/x-python",
   "name": "python",
   "nbconvert_exporter": "python",
   "pygments_lexer": "ipython3",
   "version": "3.9.13"
  }
 },
 "nbformat": 4,
 "nbformat_minor": 4
}
